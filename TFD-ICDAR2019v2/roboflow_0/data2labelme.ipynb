{
 "cells": [
  {
   "cell_type": "code",
   "execution_count": null,
   "metadata": {},
   "outputs": [],
   "source": [
    "# [{\n",
    "# 'Name': '526', \n",
    "# 'Point_list': \n",
    "#   [\n",
    "#       [261.97393798828125, 1392.8056640625, 797.0514526367188, 1482.9454345703125, 'isolated_expression']\n",
    "#   ], \n",
    "# 'height': 2027, \n",
    "# 'weight': 1433\n",
    "# }\n",
    "# ]"
   ]
  },
  {
   "cell_type": "code",
   "execution_count": 2,
   "metadata": {},
   "outputs": [],
   "source": [
    "import os\n",
    "import json"
   ]
  },
  {
   "cell_type": "code",
   "execution_count": 3,
   "metadata": {},
   "outputs": [],
   "source": [
    "def data2labelme(list, dirpath):\n",
    "    # convert to labelme\n",
    "    labelme = {}\n",
    "    fillColor = [255, 0, 0, 128]\n",
    "    lineColor = [0, 255, 0, 128]\n",
    "\n",
    "    # groups = self.annotations.groupby('file_name')\n",
    "    \n",
    "    for i in range(len(list)):\n",
    "        \n",
    "        name = list[i][name]\n",
    "        record = {\n",
    "            'imageData': None,\n",
    "            'fillColor': fillColor,\n",
    "            'lineColor': lineColor,\n",
    "            'imagePath': name,\n",
    "            'imageHeight': int(list[i].height),\n",
    "            'imageWidth': int(list[i].width),\n",
    "        }\n",
    "        record['shapes'] = []\n",
    "\n",
    "        instance = {\n",
    "            'line_color': None,\n",
    "            'fill_color': None,\n",
    "            'shape_type': \"rectangle\",\n",
    "        }\n",
    "\n",
    "\n",
    "        for inst_idx, box in enumerate(list[i]['Point_list']):\n",
    "            # print(row)\n",
    "            # [261.97393798828125, 1392.8056640625, 797.0514526367188, 1482.9454345703125, 'isolated_expression']\n",
    "            polygon =  [ [box[0], box[1]], [box[2], box[3]] ]\n",
    "            copy_instance = instance.copy()\n",
    "            copy_instance.update({\n",
    "                'label': box[4],\n",
    "                'group_id': inst_idx,\n",
    "                'points': polygon\n",
    "            })\n",
    "            record['shapes'].append(copy_instance)\n",
    "\n",
    "\n",
    "        if name not in labelme.keys():\n",
    "            labelme[name] = record\n",
    "\n",
    "    # save files\n",
    "    for file in labelme.keys():\n",
    "        # filename = os.path.basename(os.path.splitext(file)[0])\n",
    "        with open(os.path.join(dirpath, name+'.json'), 'w') as jsonfile:\n",
    "            json.dump(labelme[file], jsonfile, ensure_ascii=True, indent=2)\n",
    "\n",
    "        # if not save_json_only:\n",
    "        #     print(os.path.join(self.imgpath, file))\n",
    "                       \n",
    "        #     shutil.copy2(os.path.join(self.imgpath, file), dirpath) # target filename is /dst/dir/file.ext\n",
    "\n",
    "        #     # subprocess.call(['cp', os.path.join(self.imgpath, file), dirpath])\n",
    "        #     # comment if file name is clean (not from roboflow)\n",
    "        #     os.rename(os.path.join(dirpath, file), os.path.join(dirpath, newfile))"
   ]
  }
 ],
 "metadata": {
  "kernelspec": {
   "display_name": "Python 3.10.4 64-bit",
   "language": "python",
   "name": "python3"
  },
  "language_info": {
   "codemirror_mode": {
    "name": "ipython",
    "version": 3
   },
   "file_extension": ".py",
   "mimetype": "text/x-python",
   "name": "python",
   "nbconvert_exporter": "python",
   "pygments_lexer": "ipython3",
   "version": "3.10.4"
  },
  "orig_nbformat": 4,
  "vscode": {
   "interpreter": {
    "hash": "107d7b120a5b68773a87d4067e673630b35702e55ebab3138143d08b1c4d7cbc"
   }
  }
 },
 "nbformat": 4,
 "nbformat_minor": 2
}
